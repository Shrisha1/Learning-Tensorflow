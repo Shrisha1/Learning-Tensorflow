{
  "nbformat": 4,
  "nbformat_minor": 0,
  "metadata": {
    "colab": {
      "name": "SobelFiterUsing3DConvNet.ipynb",
      "provenance": [],
      "collapsed_sections": [],
      "include_colab_link": true
    },
    "kernelspec": {
      "name": "python3",
      "display_name": "Python 3"
    },
    "accelerator": "TPU"
  },
  "cells": [
    {
      "cell_type": "markdown",
      "metadata": {
        "id": "view-in-github",
        "colab_type": "text"
      },
      "source": [
        "<a href=\"https://colab.research.google.com/github/Shrisha1/Learning-Tensorflow/blob/master/SobelFiterUsing3DConvNet.ipynb\" target=\"_parent\"><img src=\"https://colab.research.google.com/assets/colab-badge.svg\" alt=\"Open In Colab\"/></a>"
      ]
    },
    {
      "cell_type": "code",
      "metadata": {
        "id": "VXkxhcRZW-g3",
        "colab_type": "code",
        "colab": {}
      },
      "source": [
        "import tensorflow as tf\n",
        "import skimage.io\n",
        "import numpy as np\n",
        "import matplotlib.pyplot as plt"
      ],
      "execution_count": 0,
      "outputs": []
    },
    {
      "cell_type": "code",
      "metadata": {
        "id": "ukgElvDLb0Z-",
        "colab_type": "code",
        "colab": {}
      },
      "source": [
        "def load_img(path_to_img):\n",
        "  max_dim = 512\n",
        "  img = tf.io.read_file(path_to_img)\n",
        "  img = tf.image.decode_image(img, channels=3)\n",
        "  return img"
      ],
      "execution_count": 0,
      "outputs": []
    },
    {
      "cell_type": "code",
      "metadata": {
        "id": "LLnThHy5cgK6",
        "colab_type": "code",
        "colab": {}
      },
      "source": [
        "def imshow(image, title=None):\n",
        "  if len(image.shape) > 3:\n",
        "    image = tf.squeeze(image, axis=0)\n",
        "\n",
        "  plt.imshow(image)\n",
        "  if title:\n",
        "    plt.title(title)"
      ],
      "execution_count": 0,
      "outputs": []
    },
    {
      "cell_type": "code",
      "metadata": {
        "id": "hT5hoLRyb4L6",
        "colab_type": "code",
        "colab": {
          "base_uri": "https://localhost:8080/",
          "height": 286
        },
        "outputId": "8568498a-e580-4551-b46d-f8d670347839"
      },
      "source": [
        "sess = tf.Session()\n",
        "#Read Image from any web address and save it with a given name \n",
        "content_path = tf.keras.utils.get_file('table.jpg', 'https://www.mattblatt.com.au/media/catalog/product/cache/1ae9fb32beb9fd68c443029f41f82931/k/s/xks-tab-007-newport-dining-table--9.jpg.pagespeed.ic.sMTJJfzYwX.jpg')\n",
        "image = load_img(content_path)\n",
        "#Convert image to np array , cast it to float32 and expand dimension batchsize to 1 for \n",
        "#single image so as to become ompatible input for tf.image.sobel_edges  \n",
        "image=sess.run(image)\n",
        "image=np.array(image)\n",
        "plt.imshow(image)\n",
        "print(image.shape)\n",
        "image = tf.cast(image, tf.float32)\n"
      ],
      "execution_count": 74,
      "outputs": [
        {
          "output_type": "stream",
          "text": [
            "(669, 640, 3)\n"
          ],
          "name": "stdout"
        },
        {
          "output_type": "display_data",
          "data": {
            "image/png": "[encoded data removed]",
            "text/plain": [
              "<Figure size 432x288 with 1 Axes>"
            ]
          },
          "metadata": {
            "tags": []
          }
        }
      ]
    },
    {
      "cell_type": "code",
      "metadata": {
        "id": "fzxJhbIzcGca",
        "colab_type": "code",
        "colab": {}
      },
      "source": [
        "sobel_x=tf.constant([-1,0,1,-2,0,2,-1,0,1],shape=[3,3,1,1],dtype=tf.float32)\n",
        "im = tf.expand_dims(tf.transpose(image, [2, 0, 1]),0)\n",
        "sobel_x_filter = tf.reshape(sobel_x, [1, 3, 3, 1, 1])\n",
        "conv = tf.transpose(tf.squeeze(tf.nn.conv3d(im[...,None], sobel_x_filter,\n",
        "                    strides=[1,1,1,1,1],padding='SAME')), [1,2,0])\n"
      ],
      "execution_count": 0,
      "outputs": []
    },
    {
      "cell_type": "code",
      "metadata": {
        "id": "1tUVCgm4ibEs",
        "colab_type": "code",
        "colab": {
          "base_uri": "https://localhost:8080/",
          "height": 1000
        },
        "outputId": "86d9f684-c5ff-4e46-e247-a804499bb7c4"
      },
      "source": [
        "sobelImage=sess.run(conv)\n",
        "print(sobelImage)\n",
        "plt.imshow(sobelImage)"
      ],
      "execution_count": 76,
      "outputs": [
        {
          "output_type": "stream",
          "text": [
            "Clipping input data to the valid range for imshow with RGB data ([0..1] for floats or [0..255] for integers).\n"
          ],
          "name": "stderr"
        },
        {
          "output_type": "stream",
          "text": [
            "[[[  762.   762.   762.]\n",
            "  [    0.     0.     0.]\n",
            "  [    0.     0.     0.]\n",
            "  ...\n",
            "  [    0.     0.     0.]\n",
            "  [    0.     0.     0.]\n",
            "  [ -762.  -762.  -762.]]\n",
            "\n",
            " [[ 1016.  1016.  1016.]\n",
            "  [    0.     0.     0.]\n",
            "  [    0.     0.     0.]\n",
            "  ...\n",
            "  [    0.     0.     0.]\n",
            "  [    0.     0.     0.]\n",
            "  [-1016. -1016. -1016.]]\n",
            "\n",
            " [[ 1016.  1016.  1016.]\n",
            "  [    0.     0.     0.]\n",
            "  [    0.     0.     0.]\n",
            "  ...\n",
            "  [    0.     0.     0.]\n",
            "  [    0.     0.     0.]\n",
            "  [-1016. -1016. -1016.]]\n",
            "\n",
            " ...\n",
            "\n",
            " [[ 1016.  1016.  1016.]\n",
            "  [    0.     0.     0.]\n",
            "  [    0.     0.     0.]\n",
            "  ...\n",
            "  [    0.     0.     0.]\n",
            "  [    0.     0.     0.]\n",
            "  [-1016. -1016. -1016.]]\n",
            "\n",
            " [[ 1016.  1016.  1016.]\n",
            "  [    0.     0.     0.]\n",
            "  [    0.     0.     0.]\n",
            "  ...\n",
            "  [    0.     0.     0.]\n",
            "  [    0.     0.     0.]\n",
            "  [-1016. -1016. -1016.]]\n",
            "\n",
            " [[  762.   762.   762.]\n",
            "  [    0.     0.     0.]\n",
            "  [    0.     0.     0.]\n",
            "  ...\n",
            "  [    0.     0.     0.]\n",
            "  [    0.     0.     0.]\n",
            "  [ -762.  -762.  -762.]]]\n"
          ],
          "name": "stdout"
        },
        {
          "output_type": "execute_result",
          "data": {
            "text/plain": [
              "<matplotlib.image.AxesImage at 0x7f6ef28d7fd0>"
            ]
          },
          "metadata": {
            "tags": []
          },
          "execution_count": 76
        },
        {
          "output_type": "display_data",
          "data": {
            "image/png": "[encoded data removed]",
            "text/plain": [
              "<Figure size 432x288 with 1 Axes>"
            ]
          },
          "metadata": {
            "tags": []
          }
        }
      ]
    }
  ]
}