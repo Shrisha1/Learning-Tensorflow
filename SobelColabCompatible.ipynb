{
  "nbformat": 4,
  "nbformat_minor": 0,
  "metadata": {
    "colab": {
      "name": "SobelColabCompatible.ipynb",
      "provenance": [],
      "collapsed_sections": [],
      "include_colab_link": true
    },
    "kernelspec": {
      "name": "python3",
      "display_name": "Python 3"
    },
    "accelerator": "TPU"
  },
  "cells": [
    {
      "cell_type": "markdown",
      "metadata": {
        "id": "view-in-github",
        "colab_type": "text"
      },
      "source": [
        "<a href=\"https://colab.research.google.com/github/Shrisha1/Learning-Tensorflow/blob/master/SobelColabCompatible.ipynb\" target=\"_parent\"><img src=\"https://colab.research.google.com/assets/colab-badge.svg\" alt=\"Open In Colab\"/></a>"
      ]
    },
    {
      "cell_type": "code",
      "metadata": {
        "id": "HV4D2mne3qzk",
        "colab_type": "code",
        "colab": {}
      },
      "source": [
        "import tensorflow as tf\n",
        "import skimage.io\n",
        "import numpy as np\n",
        "import matplotlib.pyplot as plt\n",
        "\n",
        "\n"
      ],
      "execution_count": 0,
      "outputs": []
    },
    {
      "cell_type": "code",
      "metadata": {
        "id": "d9SxIohxAyhF",
        "colab_type": "code",
        "colab": {}
      },
      "source": [
        "def load_img(path_to_img):\n",
        "  max_dim = 512\n",
        "  img = tf.io.read_file(path_to_img)\n",
        "  img = tf.image.decode_image(img, channels=3)\n",
        " \n",
        "  return img"
      ],
      "execution_count": 0,
      "outputs": []
    },
    {
      "cell_type": "code",
      "metadata": {
        "id": "guA5ceIP5H-x",
        "colab_type": "code",
        "colab": {
          "base_uri": "https://localhost:8080/",
          "height": 51
        },
        "outputId": "200cbbcd-7efb-4314-e19e-ba9a9c89c9fb"
      },
      "source": [
        "sess = tf.Session()\n",
        "#Read Image\n",
        "content_path = tf.keras.utils.get_file('chair.jpg', 'https://image.shutterstock.com/image-photo/brown-chair-isolated-on-white-260nw-1483454030.jpg')\n",
        "image = load_img(content_path)\n",
        "#Convert image to np array , cast it to float32 and expand dimension batchsize to 1 for \n",
        "#single image so as to become ompatible input for tf.image.sobel_edges  \n",
        "image=sess.run(image)\n",
        "image=np.array(image)\n",
        "image = tf.cast(image, tf.float32)\n",
        "image=tf.compat.v1.expand_dims(image, 0)\n",
        "\n"
      ],
      "execution_count": 37,
      "outputs": [
        {
          "output_type": "stream",
          "text": [
            "Downloading data from https://image.shutterstock.com/image-photo/brown-chair-isolated-on-white-260nw-1483454030.jpg\n",
            "8192/6819 [====================================] - 0s 0us/step\n"
          ],
          "name": "stdout"
        }
      ]
    },
    {
      "cell_type": "code",
      "metadata": {
        "id": "CZ6sQJ6XBR5x",
        "colab_type": "code",
        "colab": {
          "base_uri": "https://localhost:8080/",
          "height": 303
        },
        "outputId": "4fe9c3c6-4327-4a4b-f1a7-a6dc7c7d85fd"
      },
      "source": [
        "# call tf.image.sobel_edges and run the tensor\n",
        "sobel= tf.image.sobel_edges(image)\n",
        "SobelImage=sess.run(sobel)\n",
        "# Convert the last  dimension to individual x and y coordinates \n",
        "sobel_x = np.asarray(SobelImage[0, :, :, :, 0])\n",
        "sobel_y = np.asarray(SobelImage[0, :, :, :, 1])\n",
        "\n",
        "# plot images\n",
        "\n",
        "plt.imshow(sobel_x)\n",
        "plt.imshow(sobel_y)\n",
        "sess.close()"
      ],
      "execution_count": 38,
      "outputs": [
        {
          "output_type": "stream",
          "text": [
            "Clipping input data to the valid range for imshow with RGB data ([0..1] for floats or [0..255] for integers).\n",
            "Clipping input data to the valid range for imshow with RGB data ([0..1] for floats or [0..255] for integers).\n"
          ],
          "name": "stderr"
        },
        {
          "output_type": "display_data",
          "data": {
            "image/png": "[encoded data removed]",
            "text/plain": [
              "<Figure size 432x288 with 1 Axes>"
            ]
          },
          "metadata": {
            "tags": []
          }
        }
      ]
    }
  ]
}